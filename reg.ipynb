{
 "cells": [
  {
   "cell_type": "code",
   "execution_count": 60,
   "metadata": {},
   "outputs": [],
   "source": [
    "import pandas as pd\n",
    "from sklearn.model_selection import train_test_split\n",
    "from sklearn.linear_model import LogisticRegression\n",
    "from sklearn.compose import ColumnTransformer\n",
    "from sklearn.preprocessing import OneHotEncoder\n",
    "import matplotlib.pyplot as plt\n",
    "from sklearn.metrics import mean_squared_error\n",
    "from sklearn.metrics import r2_score\n",
    "\n",
    "\n",
    "df = pd.read_csv('df_combined.csv')\n",
    "df[\"Crime Count\"] = df.groupby([\"Latitude\", \"Longitude\", \"Crime type\"])[\"Crime ID\"].transform(\"count\")\n"
   ]
  },
  {
   "cell_type": "code",
   "execution_count": 33,
   "metadata": {},
   "outputs": [],
   "source": [
    "selected_columns = ['Month', 'Location', 'LSOA code', 'LSOA name']\n",
    "ct = ColumnTransformer(\n",
    "    transformers=[('encoder', OneHotEncoder(), selected_columns)],\n",
    "    remainder='drop'\n",
    ")\n",
    "\n",
    "data_encoded = ct.fit_transform(df[selected_columns])"
   ]
  },
  {
   "cell_type": "code",
   "execution_count": 61,
   "metadata": {},
   "outputs": [
    {
     "name": "stdout",
     "output_type": "stream",
     "text": [
      "Coefficients:  [[ 6.47907397e+00  6.50758461e+00  6.58304799e+00 ... -1.21151056e-02\n",
      "   5.09064205e-01  1.35038477e-01]\n",
      " [ 1.79329747e-01  1.51038732e+00  8.73512271e-01 ... -1.82655430e-01\n",
      "  -7.26548740e-01 -7.58265316e-01]\n",
      " [ 2.23890411e-02  4.65761078e-01 -9.97334079e-03 ... -3.15610830e-01\n",
      "  -4.96279685e-01 -4.64858314e-01]\n",
      " ...\n",
      " [-1.36789898e-01 -3.34701084e-01 -7.92945481e-03 ... -6.22678022e-03\n",
      "  -4.58101473e-03 -4.61640864e-03]\n",
      " [-6.96888466e-03 -9.11859137e-03 -6.83902501e-03 ... -7.15107362e-03\n",
      "  -5.29460980e-03 -5.25340319e-03]\n",
      " [-4.75634559e-03 -6.10306895e-03 -5.20020339e-03 ... -9.24300642e-03\n",
      "  -6.79351288e-03 -6.86299605e-03]]\n",
      "Mean squared error: 16.13\n",
      "R-squared score:  0.924547538877451\n"
     ]
    },
    {
     "name": "stderr",
     "output_type": "stream",
     "text": [
      "/Users/sarpakar/opt/anaconda3/envs/JBI010/lib/python3.8/site-packages/sklearn/linear_model/_logistic.py:458: ConvergenceWarning: lbfgs failed to converge (status=1):\n",
      "STOP: TOTAL NO. of ITERATIONS REACHED LIMIT.\n",
      "\n",
      "Increase the number of iterations (max_iter) or scale the data as shown in:\n",
      "    https://scikit-learn.org/stable/modules/preprocessing.html\n",
      "Please also refer to the documentation for alternative solver options:\n",
      "    https://scikit-learn.org/stable/modules/linear_model.html#logistic-regression\n",
      "  n_iter_i = _check_optimize_result(\n"
     ]
    }
   ],
   "source": [
    "y = df['Crime Count']\n",
    "X = data_encoded\n",
    "\n",
    "X_train, X_test, y_train, y_test = train_test_split(X, y, test_size=0.2, random_state=42)\n",
    "lr = LogisticRegression()\n",
    "lr.fit(X_train, y_train)\n",
    "y_pred = lr.predict(X_test)\n",
    "r2 = r2_score(y_test, y_pred)\n",
    "print('Coefficients: ', lr.coef_)\n",
    "print('Mean squared error: %.2f' % mean_squared_error(y_test, y_pred))\n",
    "print('R-squared score: ', r2)\n",
    "\n"
   ]
  }
 ],
 "metadata": {
  "kernelspec": {
   "display_name": "JBI010",
   "language": "python",
   "name": "python3"
  },
  "language_info": {
   "codemirror_mode": {
    "name": "ipython",
    "version": 3
   },
   "file_extension": ".py",
   "mimetype": "text/x-python",
   "name": "python",
   "nbconvert_exporter": "python",
   "pygments_lexer": "ipython3",
   "version": "3.8.2"
  },
  "orig_nbformat": 4
 },
 "nbformat": 4,
 "nbformat_minor": 2
}
