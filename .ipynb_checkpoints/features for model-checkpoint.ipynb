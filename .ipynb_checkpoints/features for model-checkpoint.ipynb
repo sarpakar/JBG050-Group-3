{
 "cells": [
  {
   "cell_type": "code",
   "execution_count": null,
   "id": "f8a3ee7a",
   "metadata": {},
   "outputs": [],
   "source": [
    "import pandas as pd\n",
    "import csv\n",
    "import glob\n",
    "import random\n",
    "import re\n",
    "import seaborn as sns\n",
    "import numpy as np\n",
    "import os\n",
    "import matplotlib.pyplot as plt\n",
    "from scipy import stats"
   ]
  },
  {
   "cell_type": "code",
   "execution_count": null,
   "id": "3c1ca398",
   "metadata": {},
   "outputs": [],
   "source": [
    "df_burglary = pd.read_csv('burglaries_preprocessed.csv')"
   ]
  },
  {
   "cell_type": "code",
   "execution_count": null,
   "id": "396d9b53",
   "metadata": {},
   "outputs": [],
   "source": [
    "# makes a season column in the dataframe\n",
    "season = []\n",
    "for index, row in df_burglary.iterrows():\n",
    "    month = df_burglary['Month'][index].split('-')[1]\n",
    "    if month in ['12','01','02']: #winter\n",
    "        season.append('Winter')        \n",
    "    if month in ['03','04', '05']: #spring\n",
    "        season.append('Spring')\n",
    "    if month in ['06', '07', '08']:\n",
    "        season.append('Summer')\n",
    "    if month in ['09', '10', '11']:\n",
    "        season.append('Autumn')\n",
    "        \n",
    "#makes a month column in the dataframe\n",
    "month_lst = []\n",
    "for index, row in df_burglary.iterrows():\n",
    "    month = df_burglary['Month'][index].split('-')[1]\n",
    "    month_lst.append(month)\n",
    "\n",
    "df_burglary['Season'] = season\n",
    "df_burglary['Month.'] = month_lst\n",
    "df_burglary"
   ]
  }
 ],
 "metadata": {
  "kernelspec": {
   "display_name": "Python 3 (ipykernel)",
   "language": "python",
   "name": "python3"
  },
  "language_info": {
   "codemirror_mode": {
    "name": "ipython",
    "version": 3
   },
   "file_extension": ".py",
   "mimetype": "text/x-python",
   "name": "python",
   "nbconvert_exporter": "python",
   "pygments_lexer": "ipython3",
   "version": "3.9.13"
  }
 },
 "nbformat": 4,
 "nbformat_minor": 5
}
